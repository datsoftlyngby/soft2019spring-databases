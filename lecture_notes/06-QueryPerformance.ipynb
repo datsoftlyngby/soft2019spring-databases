{
 "cells": [
  {
   "cell_type": "markdown",
   "metadata": {},
   "source": [
    "# Query performance\n",
    "#### Execution plan, role of index, query optimizer\n",
    "#### 'with', 'windows' and 'full text index'\n",
    "#### Misc and new solutions to 5.4 and 5.5"
   ]
  },
  {
   "cell_type": "code",
   "execution_count": 1,
   "metadata": {
    "button": false,
    "new_sheet": false,
    "run_control": {
     "read_only": false
    },
    "slideshow": {
     "slide_type": "skip"
    }
   },
   "outputs": [
    {
     "name": "stdout",
     "output_type": "stream",
     "text": [
      "CONTAINER ID        IMAGE               COMMAND                  CREATED             STATUS              PORTS                               NAMES\r\n",
      "1df11d80e18a        mysql               \"docker-entrypoint.s…\"   7 hours ago         Up 7 hours          33060/tcp, 0.0.0.0:3366->3306/tcp   inject_mysql\r\n",
      "2cb3e46e87ce        mysql               \"docker-entrypoint.s…\"   45 hours ago        Up 45 hours         0.0.0.0:3306->3306/tcp, 33060/tcp   my_mysql\r\n"
     ]
    }
   ],
   "source": [
    "!docker container ls -a"
   ]
  },
  {
   "cell_type": "code",
   "execution_count": 2,
   "metadata": {
    "button": false,
    "new_sheet": false,
    "run_control": {
     "read_only": false
    },
    "slideshow": {
     "slide_type": "skip"
    }
   },
   "outputs": [
    {
     "name": "stdout",
     "output_type": "stream",
     "text": [
      "2cb3e46e87cec115ffe1bcdef5a21463fa4848cb6fadef21e8c834b167c7b4b1\n",
      "MySQLRunning\n"
     ]
    }
   ],
   "source": [
    "%%bash\n",
    "docker run \\\n",
    "--rm \\\n",
    "--name my_mysql \\\n",
    "-v $(pwd)/mysql_databasefiles:/var/lib/mysql \\\n",
    "-v $(pwd)/mysql_databasefiles/xmlimport/xmlimport.cnf:/etc/mysql/conf.d/xmlimport.cnf \\\n",
    "-p 3306:3306 \\\n",
    "-e MYSQL_ROOT_PASSWORD=deterentysker!42snapsnap \\\n",
    "-d \\\n",
    "mysql\n",
    "echo \"MySQLRunning\""
   ]
  },
  {
   "cell_type": "code",
   "execution_count": 2,
   "metadata": {
    "button": false,
    "new_sheet": false,
    "run_control": {
     "read_only": false
    },
    "slideshow": {
     "slide_type": "skip"
    }
   },
   "outputs": [
    {
     "data": {
      "text/plain": [
       "'Done'"
      ]
     },
     "execution_count": 2,
     "metadata": {},
     "output_type": "execute_result"
    }
   ],
   "source": [
    "import sys\n",
    "import mysql.connector\n",
    "\n",
    "def rootconnect():\n",
    "    try:\n",
    "        pw = 'deterentysker!42snapsnap'\n",
    "        conn = mysql.connector.connect( host='localhost', database='coffeeflow',user='root', password=pw)\n",
    "        conn.autocommit = True\n",
    "        return conn;\n",
    "    except Exception as ex:\n",
    "        print(str(ex), file=sys.stderr)\n",
    "    \n",
    "\n",
    "conn = rootconnect()\n",
    "\n",
    "def sqlQuery(sqlString):\n",
    "    global conn\n",
    "    try:\n",
    "        if not conn.is_connected():\n",
    "            conn = rootconnect()\n",
    "        cursor = conn.cursor()\n",
    "        cursor.execute(sqlString)\n",
    "        res = cursor.fetchall()\n",
    "        return res\n",
    "    except Exception as ex:\n",
    "        print(str(ex), file=sys.stderr)\n",
    "    finally:    \n",
    "        cursor.close()\n",
    "\n",
    "def sqlDo(sqlString):\n",
    "    global conn\n",
    "    try:\n",
    "        if not conn.is_connected():\n",
    "            conn = rootconnect()\n",
    "        cursor = conn.cursor()\n",
    "        cursor.execute(sqlString)\n",
    "        res = cursor.fetchwarnings()\n",
    "        return res\n",
    "    except Exception as ex:\n",
    "        print(str(ex), file=sys.stderr)\n",
    "    finally:    \n",
    "        cursor.close()\n",
    "\n",
    "\"Done\"    "
   ]
  },
  {
   "cell_type": "markdown",
   "metadata": {
    "slideshow": {
     "slide_type": "slide"
    }
   },
   "source": [
    "# 'WITH' to avoid sub-queries"
   ]
  },
  {
   "cell_type": "markdown",
   "metadata": {
    "slideshow": {
     "slide_type": "subslide"
    }
   },
   "source": [
    "### Number of orders by city of office\n",
    "\n",
    "```mysql\n",
    "with bigtable as (\n",
    "  select offices.city, orders.orderNumber\n",
    "  from offices, orders, customers, employees\n",
    "  where orders.customerNumber = customers.customerNumber and\n",
    "    customers.salesRepEmployeeNumber = employees.employeeNumber and\n",
    "    employees.officeCode = offices.officeCode\n",
    ")\n",
    "select city, count(orderNumber) as total\n",
    "from bigtable\n",
    "group by city\n",
    "order by total\n",
    "```\n"
   ]
  },
  {
   "cell_type": "markdown",
   "metadata": {
    "slideshow": {
     "slide_type": "subslide"
    }
   },
   "source": [
    "### You can have multiple variable names\n",
    "```mysql\n",
    "WITH\n",
    "  cte1 AS (SELECT a, b FROM table1),\n",
    "  cte2 AS (SELECT c, d FROM table2)\n",
    "SELECT b, d FROM cte1 JOIN cte2\n",
    "WHERE cte1.a = cte2.c;\n",
    "```\n",
    "\n",
    "More info on [WITH Syntax (Common Table Expressions)](https://dev.mysql.com/doc/refman/8.0/en/with.html)"
   ]
  },
  {
   "cell_type": "markdown",
   "metadata": {
    "slideshow": {
     "slide_type": "slide"
    }
   },
   "source": [
    "### Subquery style (tx David)\n",
    "```mysql\n",
    "  SELECT posts.Id, \n",
    "    JSON_OBJECT('userName', users.DisplayName, \n",
    "        'text', posts.Body, 'score', posts.Score, \n",
    "        'answers', JSON_ARRAYAGG(posts_answers.Answer)) AS answer_data\n",
    "  FROM posts\n",
    "  INNER JOIN users ON users.Id = posts.OwnerUserId\n",
    "  INNER JOIN \n",
    "          (SELECT posts.ParentId, \n",
    "              JSON_OBJECT('userName', users.DisplayName, \n",
    "              'text', posts.Body, 'score', posts.Score) AS Answer\n",
    "            FROM posts\n",
    "            INNER JOIN users ON users.Id = posts.OwnerUserId\n",
    "            WHERE posts.PostTypeId = 2) as posts_answers\n",
    "      ON posts.Id = posts_answers.ParentId\n",
    "\tWHERE posts.PostTypeId = 1\n",
    "\tGROUP BY posts.Id;\n",
    "```\n"
   ]
  },
  {
   "cell_type": "markdown",
   "metadata": {
    "slideshow": {
     "slide_type": "fragment"
    }
   },
   "source": [
    "## Your turn - Rewrite Davids query using 'with'-style"
   ]
  },
  {
   "cell_type": "code",
   "execution_count": 5,
   "metadata": {
    "slideshow": {
     "slide_type": "subslide"
    }
   },
   "outputs": [],
   "source": [
    "# Exercise 4\n",
    "# Make a materialized view that has json objects with questions and its answeres, but no comments. \n",
    "# Both the question and each of the answers must have the display name of the user, the text body, and the score.\n",
    "sqlDo(\"\"\"\n",
    "DROP VIEW IF EXISTS view_questions_and_answers;\n",
    "CREATE VIEW view_questions_and_answers AS\n",
    "with \n",
    "    posts_with_usernames as \n",
    "        (select posts.Id, PostTypeId, Score, DisplayName, ParentId, Body\n",
    "            from posts, users\n",
    "            where posts.OwnerUserId = users.Id and posts.PostTypeId in (1,2)),\n",
    "    questions as (select * from posts_with_usernames where PostTypeId = 1),\n",
    "    answers as (select * from posts_with_usernames where PostTypeId = 2),\n",
    "    q_and_a as (select\n",
    "        questions.Id as id,\n",
    "        questions.DisplayName as qName, \n",
    "        questions.Score as qScore,\n",
    "        questions.Body as qBody,\n",
    "        answers.DisplayName as aName,\n",
    "        answers.Score as aScore,\n",
    "        answers.Body as aBody\n",
    "        from questions inner join answers on questions.id = answers.ParentId)\n",
    "select id, \n",
    "    JSON_OBJECT('name', qName, 'score', qScore, 'body', qBody) as question,\n",
    "    json_arrayagg(JSON_OBJECT('name', aName, 'score', aScore, 'body', aBody)) as answer\n",
    "from q_and_a\n",
    "group by id;\n",
    "\"\"\")"
   ]
  },
  {
   "cell_type": "code",
   "execution_count": 11,
   "metadata": {
    "slideshow": {
     "slide_type": "subslide"
    }
   },
   "outputs": [
    {
     "data": {
      "text/plain": [
       "'Ugly when printed'"
      ]
     },
     "execution_count": 11,
     "metadata": {},
     "output_type": "execute_result"
    }
   ],
   "source": [
    "sqlQuery(\"select * from view_questions_and_answers limit 1\")\n",
    "\"Ugly when printed\""
   ]
  },
  {
   "cell_type": "markdown",
   "metadata": {
    "slideshow": {
     "slide_type": "slide"
    }
   },
   "source": [
    "# Query performance & explain\n",
    "\n",
    "Consider this query:\n",
    "```mysql\n",
    "SELECT Id, Reputation, DisplayName, UpVotes FROM users where UpVotes>50;\n",
    "```\n"
   ]
  },
  {
   "cell_type": "markdown",
   "metadata": {
    "slideshow": {
     "slide_type": "subslide"
    }
   },
   "source": [
    "### Open it in mySQLWorkbench\n",
    "\n",
    "run it, and select \"execution plan\"\n",
    "\n",
    "![](images/ExecutionPlan.png)"
   ]
  },
  {
   "cell_type": "markdown",
   "metadata": {
    "slideshow": {
     "slide_type": "subslide"
    }
   },
   "source": [
    "```mysql\n",
    "SELECT Id, Reputation, DisplayName, UpVotes FROM users where UpVotes>50;\n",
    "```\n",
    "\n",
    "![](images/SimplePlan.png)"
   ]
  },
  {
   "cell_type": "markdown",
   "metadata": {
    "slideshow": {
     "slide_type": "subslide"
    }
   },
   "source": [
    "## A larger query\n",
    "From last time...\n",
    "\n",
    "```mysql\n",
    "select\n",
    "    customers.customerNumber,\n",
    "    customers.customerName,\n",
    "\tSUM(quantityOrdered * priceEach) AS totalPrice,\n",
    "\tSUM(payments.amount) AS totalPaid\n",
    "from customers\n",
    "inner join orders on orders.customerNumber = customers.customerNumber\n",
    "inner join orderdetails on orders.orderNumber = orderdetails.orderNumber\n",
    "inner join payments on payments.customerNumber = customers.customerNumber\n",
    "group by customers.customerNumber\n",
    "```"
   ]
  },
  {
   "cell_type": "markdown",
   "metadata": {
    "slideshow": {
     "slide_type": "slide"
    }
   },
   "source": [
    "# Your turn\n",
    "\n",
    "### Try to change the order of the joins, and see how that change the plan\n",
    "### Try to change the order of the selects, and see how that change the plan\n",
    "### Try to change the 'on' clause by adding 1 to each side `... +1 = 1+...`"
   ]
  },
  {
   "cell_type": "markdown",
   "metadata": {
    "slideshow": {
     "slide_type": "slide"
    }
   },
   "source": [
    "### What did we learn?\n",
    "\n",
    "### Try to change the order of the joins, and see how that change the plan\n",
    "### Try to change the order of the selects, and see how that change the plan\n",
    "### Try to change the 'on' clause by adding 1 to each side `... +1 = 1+...`"
   ]
  },
  {
   "cell_type": "markdown",
   "metadata": {
    "slideshow": {
     "slide_type": "slide"
    }
   },
   "source": [
    "# Back to Exercise 5.4 - Materialized view - two approaches"
   ]
  },
  {
   "cell_type": "code",
   "execution_count": 49,
   "metadata": {
    "slideshow": {
     "slide_type": "subslide"
    }
   },
   "outputs": [],
   "source": [
    "# Question 4\n",
    "sqlDo(\"\"\"\n",
    "drop procedure if exists updateQuestionAndAnswer;\n",
    "create procedure updateQuestionAndAnswer()\n",
    "BEGIN\n",
    "    drop table if exists materialized_view_questions_and_answers;\n",
    "    CREATE TABLE materialized_view_questions_and_answers\n",
    "    AS SELECT * FROM view_questions_and_answers;\n",
    "END;\n",
    "call updateQuestionAndAnswer();\n",
    "\"\"\")"
   ]
  },
  {
   "cell_type": "code",
   "execution_count": 13,
   "metadata": {
    "slideshow": {
     "slide_type": "subslide"
    }
   },
   "outputs": [],
   "source": [
    "# An other implementation\n",
    "sqlDo(\"\"\"\n",
    "drop procedure if exists updateQuestionAndAnswer2;\n",
    "create procedure updateQuestionAndAnswer2()\n",
    "BEGIN\n",
    "    REPLACE INTO materialized_view_questions_and_answers \n",
    "    SELECT * FROM view_questions_and_answers;\n",
    "END;\n",
    "\"\"\")"
   ]
  },
  {
   "cell_type": "markdown",
   "metadata": {
    "slideshow": {
     "slide_type": "slide"
    }
   },
   "source": [
    "# Which is the fastest?\n",
    "Try in workbench"
   ]
  },
  {
   "cell_type": "markdown",
   "metadata": {
    "slideshow": {
     "slide_type": "slide"
    }
   },
   "source": [
    "## Exercise 5.5 json_table\n",
    "\n",
    "> Using the materialized view from exercise 4, create a stored procedure with one parameter keyword, which returns all posts where the keyword appears at least once, and where at least two comments mention the keyword as well."
   ]
  },
  {
   "cell_type": "code",
   "execution_count": 50,
   "metadata": {
    "slideshow": {
     "slide_type": "subslide"
    }
   },
   "outputs": [],
   "source": [
    "# Question 5\n",
    "sqlDo(\"\"\"\n",
    "drop procedure if exists findPostsAndCommentsByKey;\n",
    "\n",
    "create procedure findPostsAndCommentsByKey(in keyword varchar(100))\n",
    "begin\n",
    "declare key_rx varchar(100);\n",
    "set key_rx = concat('.{0,5}',keyword,'.{0,5}');\n",
    "select id,\n",
    "       count(rowid) as count,\n",
    "       regexp_substr(any_value(question), key_rx)  as Question,\n",
    "       group_concat(regexp_substr(answer, key_rx) separator ' / ')  as Answer\n",
    "from materialized_view_questions_and_answers,\n",
    "     json_table(answer,'$[*]'\n",
    "       columns(  rowid for ordinality , ans json path '$.body')) as answers\n",
    "where ans regexp key_rx and (question->'$.body' regexp key_rx)\n",
    "group by id\n",
    "having count>=2\n",
    "order by count desc, id asc;\n",
    "end\n",
    "\"\"\") "
   ]
  },
  {
   "cell_type": "code",
   "execution_count": 63,
   "metadata": {
    "slideshow": {
     "slide_type": "subslide"
    }
   },
   "outputs": [
    {
     "data": {
      "text/plain": [
       "[(2508,\n",
       "  7,\n",
       "  'esso machine that',\n",
       "  'p>My machine work / p>My machine work / p>My machine work / p>My machine work / p>My machine work / p>My machine work / p>My machine work'),\n",
       " (3408,\n",
       "  4,\n",
       "  'esso machine</a>.',\n",
       "  'this machine and  / this machine and  / this machine and  / this machine and '),\n",
       " (2766,\n",
       "  3,\n",
       "  'esso machines a w',\n",
       "  'esso machines.</p / esso machines.</p / esso machines.</p'),\n",
       " (3412,\n",
       "  3,\n",
       "  ' new machine).  G',\n",
       "  ' the machine and  /  the machine and  /  the machine and ')]"
      ]
     },
     "execution_count": 63,
     "metadata": {},
     "output_type": "execute_result"
    }
   ],
   "source": [
    "sqlQuery(\"\"\"\n",
    "call findPostsAndCommentsByKey('machine')\n",
    "\"\"\")[0:4]"
   ]
  },
  {
   "cell_type": "markdown",
   "metadata": {
    "slideshow": {
     "slide_type": "slide"
    }
   },
   "source": [
    "# Functional dependency\n",
    "### Notice `any_value(question)` in:\n",
    "```mysql\n",
    "select id,\n",
    "       count(rowid) as count,\n",
    "       regexp_substr(any_value(question), key_rx)  as Question,\n",
    "       group_concat(regexp_substr(answer, key_rx) separator ' / ')  as Answer\n",
    "from materialized_view_questions_and_answers,\n",
    "     json_table(answer,'$[*]'\n",
    "       columns(  rowid for ordinality , ans json path '$.body')) as answers\n",
    "where ans regexp key_rx and (question->'$.body' regexp key_rx)\n",
    "group by id\n",
    "having count>=2\n",
    "order by count desc, id asc;\n",
    "```"
   ]
  },
  {
   "cell_type": "markdown",
   "metadata": {
    "slideshow": {
     "slide_type": "slide"
    }
   },
   "source": [
    "# Removing it gives an error when executed\n",
    "## Why?\n",
    "## What can be done to solve it?\n"
   ]
  },
  {
   "cell_type": "markdown",
   "metadata": {
    "slideshow": {
     "slide_type": "fragment"
    }
   },
   "source": [
    "# Your turn - fix it"
   ]
  },
  {
   "cell_type": "markdown",
   "metadata": {
    "slideshow": {
     "slide_type": "slide"
    }
   },
   "source": [
    "# Windowing functions\n",
    "\n",
    "## In particular useful for producing data for analysis\n",
    "\n",
    "```mysql\n",
    "SELECT \n",
    "\tusers.DisplayName as Name, \n",
    "    posts.Title as Title,\n",
    "    count(*) OVER (PARTITION BY posts.OwnerUserId) as totalPosts\n",
    "FROM posts inner join users on posts.OwnerUserId = users.Id\n",
    "where posts.PostTypeId=1;\n",
    "```\n",
    "\n",
    "(see in mySQLWorkbench)"
   ]
  },
  {
   "cell_type": "markdown",
   "metadata": {
    "slideshow": {
     "slide_type": "subslide"
    }
   },
   "source": [
    "# Larger query\n",
    "```mysql\n",
    "SELECT \n",
    "    users.DisplayName as Name, \n",
    "    posts.Title as Title,\n",
    "    year(posts.CreationDate) as Year,\n",
    "    month(posts.CreationDate) as Month,\n",
    "    count(*) OVER (PARTITION BY year(posts.CreationDate) ) as postInYear,\n",
    "    count(*) OVER (PARTITION BY month(posts.CreationDate) ) as postInMonth,\n",
    "    count(*) OVER (PARTITION BY users.Id ) as postByUser\n",
    "FROM posts inner join users on posts.OwnerUserId = users.Id\n",
    "where posts.PostTypeId=1\n",
    "order by posts.CreationDate;\n",
    "```"
   ]
  },
  {
   "cell_type": "markdown",
   "metadata": {
    "slideshow": {
     "slide_type": "subslide"
    }
   },
   "source": [
    "# Running aggregation\n",
    "\n",
    "```mysql\n",
    "SELECT\n",
    "\tusers.DisplayName as Name, \n",
    "    posts.Title as Title,\n",
    "    posts.Score,\n",
    "    year(posts.CreationDate) as Year,\n",
    "    monthname(posts.CreationDate) as Month,\n",
    "    avg(Score) OVER (PARTITION BY users.DisplayName order by posts.CreationDate) as avgScoreByNow\n",
    "FROM posts inner join users on posts.OwnerUserId = users.Id\n",
    "where posts.PostTypeId=1\n",
    "order by posts.CreationDate;\n",
    "```\n",
    "\n"
   ]
  },
  {
   "cell_type": "markdown",
   "metadata": {
    "slideshow": {
     "slide_type": "subslide"
    }
   },
   "source": [
    "# Activity \n",
    "```mysql\n",
    "SELECT\n",
    "\tusers.DisplayName as Name, \n",
    "    posts.Title as Title,\n",
    "    posts.Score,\n",
    "    year(posts.CreationDate) as Year,\n",
    "    monthname(posts.CreationDate) as Month,\n",
    "    datediff( posts.CreationDate, first_value( posts.CreationDate) \n",
    "\t\tOVER (PARTITION by users.DisplayName order by posts.CreationDate)) as DaysSinceFirst\n",
    "FROM posts inner join users on posts.OwnerUserId = users.Id\n",
    "where posts.PostTypeId=1\n",
    "order by users.DisplayName, posts.CreationDate;\n",
    "```\n",
    "\n",
    "Notice that the window function is used inside a select field as a normal expression."
   ]
  },
  {
   "cell_type": "markdown",
   "metadata": {
    "slideshow": {
     "slide_type": "subslide"
    }
   },
   "source": [
    "# Days between posts\n",
    "\n",
    "```mysql\n",
    "SELECT\n",
    "\tusers.DisplayName as Name, \n",
    "    posts.Title as Title,\n",
    "    posts.Score,\n",
    "    date(posts.CreationDate) as Date,\n",
    "    COALESCE(datediff( posts.CreationDate, lag( posts.CreationDate, 1) \n",
    "\t\tOVER (PARTITION by users.DisplayName \n",
    "\t\t\t  ORDER BY posts.CreationDate\n",
    "              )),0) as DaysSinceFirst\n",
    "FROM posts inner join users on posts.OwnerUserId = users.Id\n",
    "where posts.PostTypeId=1\n",
    "order by users.DisplayName, posts.CreationDate;\n",
    "```"
   ]
  },
  {
   "cell_type": "markdown",
   "metadata": {},
   "source": [
    "# Your turn\n",
    "\n",
    "### 1. Compute running sum of payments for customers. Use the classicmodels table. Only use Norwegian customers\n",
    "\n",
    "### 2. Compute running sum of orders for Norwegian customers\n",
    "\n",
    "### 3. Compute running balance for Norwegian customers"
   ]
  }
 ],
 "metadata": {
  "celltoolbar": "Slideshow",
  "kernelspec": {
   "display_name": "Python 3",
   "language": "python",
   "name": "python3"
  },
  "language_info": {
   "codemirror_mode": {
    "name": "ipython",
    "version": 3
   },
   "file_extension": ".py",
   "mimetype": "text/x-python",
   "name": "python",
   "nbconvert_exporter": "python",
   "pygments_lexer": "ipython3",
   "version": "3.7.3"
  }
 },
 "nbformat": 4,
 "nbformat_minor": 2
}
