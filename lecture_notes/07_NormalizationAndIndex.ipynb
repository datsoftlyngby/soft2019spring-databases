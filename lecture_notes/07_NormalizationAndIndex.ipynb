{
 "cells": [
  {
   "cell_type": "markdown",
   "metadata": {
    "button": false,
    "new_sheet": false,
    "run_control": {
     "read_only": false
    },
    "slideshow": {
     "slide_type": "slide"
    }
   },
   "source": [
    "# Plan\n",
    "<hr>\n",
    "\n",
    "* Follow up on last weeks exercises\n",
    "* Functional dependencies\n",
    "* Keys \n",
    "* Normalization\n",
    "* Cut the crap\n",
    "* Index - B+ trees\n",
    "* EAV tables"
   ]
  },
  {
   "cell_type": "markdown",
   "metadata": {
    "button": false,
    "new_sheet": false,
    "run_control": {
     "read_only": false
    },
    "slideshow": {
     "slide_type": "slide"
    }
   },
   "source": [
    "# Last weeks exercises"
   ]
  },
  {
   "cell_type": "markdown",
   "metadata": {
    "button": false,
    "new_sheet": false,
    "run_control": {
     "read_only": false
    },
    "slideshow": {
     "slide_type": "slide"
    }
   },
   "source": [
    "## Excercise 1\n",
    "\n",
    "In the `classicmodels` database, write a query that picks out those customers who are in the same city as office of their sales representative.\n",
    "\n",
    "### Hand-in:\n",
    "Insert into the readme file: the query and the graphical execution plan which can be obtained from the query. Explain what is the main performance problem for this query. Do not try to optimize the database for this query (yet).M\n",
    "\n",
    "## Exercise 2\n",
    "Change the database schema so that the query from exercise get better performance. \n",
    "\n",
    "### Hand-in:\n",
    "Explain in the readme file what changes you did, if you changed the query or the schema. Insert a new graphical execution plan, and point out in the readme file why this new one is better."
   ]
  },
  {
   "cell_type": "markdown",
   "metadata": {
    "button": false,
    "new_sheet": false,
    "run_control": {
     "read_only": false
    },
    "slideshow": {
     "slide_type": "slide"
    }
   },
   "source": [
    "### Exercise 1 & 2\n",
    "```mysql\n",
    "select customers.customerName, offices.city as office_city\n",
    "from customers, employees, offices\n",
    "where \n",
    "\tcustomers.salesRepEmployeeNumber = employees.employeeNumber and \n",
    "\temployees.officeCode = offices.officeCode and\n",
    "    customers.city = offices.city;\n",
    "```\n",
    "\n",
    "| without index | with index |\n",
    "|:-------------:|:----------:|\n",
    "|![](images/Without_city_index.png)|![](images/With_city_index.png)|\n",
    "\n"
   ]
  },
  {
   "cell_type": "markdown",
   "metadata": {
    "button": false,
    "new_sheet": false,
    "run_control": {
     "read_only": false
    },
    "slideshow": {
     "slide_type": "slide"
    }
   },
   "source": [
    "## Exercise 3\n",
    "We want to find out how much each office has sold and the max single payment for each office. Write two queries which give this information\n",
    "\n",
    "a) using grouping<br>\n",
    "b) using windowing\n",
    "\n",
    "For each of the two solutions, check its graphical execution plan.\n",
    "\n",
    "### Hand-in:\n",
    "The two queries and the graphical execution plans. Explain any differences and try to explain why there is or is not any difference."
   ]
  },
  {
   "cell_type": "markdown",
   "metadata": {
    "button": false,
    "new_sheet": false,
    "run_control": {
     "read_only": false
    },
    "slideshow": {
     "slide_type": "slide"
    }
   },
   "source": [
    "```mysql\n",
    "WITH bigjoin AS (\n",
    "\tSELECT offices.officeCode AS office, payments.amount as amount\n",
    "\tFROM offices\n",
    "\tINNER JOIN employees ON employees.officeCode = offices.officeCode\n",
    "\tINNER JOIN customers ON customers.salesRepEmployeeNumber = employees.employeeNumber \n",
    "\tINNER JOIN payments ON payments.customerNumber = customers.customerNumber\n",
    ")\n",
    "SELECT office, SUM(amount) as totalSold, MAX(amount) as maxPaid\n",
    "FROM bigjoin\n",
    "GROUP BY office\n",
    "```"
   ]
  },
  {
   "cell_type": "markdown",
   "metadata": {
    "button": false,
    "new_sheet": false,
    "run_control": {
     "read_only": false
    },
    "slideshow": {
     "slide_type": "slide"
    }
   },
   "source": [
    "![](images/GroupBy.png)"
   ]
  },
  {
   "cell_type": "markdown",
   "metadata": {
    "button": false,
    "new_sheet": false,
    "run_control": {
     "read_only": false
    },
    "slideshow": {
     "slide_type": "slide"
    }
   },
   "source": [
    "```mysql\n",
    "WITH bigjoin AS (\n",
    "\tSELECT offices.officeCode as office, payments.amount as amount\n",
    "\tFROM offices\n",
    "\tINNER JOIN employees ON employees.officeCode = offices.officeCode\n",
    "\tINNER JOIN customers ON customers.salesRepEmployeeNumber = employees.employeeNumber \n",
    "\tINNER JOIN payments ON payments.customerNumber = customers.customerNumber\n",
    ")\n",
    "SELECT \n",
    "\toffice, \n",
    "\tSUM(amount) OVER (PARTITION BY office) AS totalPaid, \n",
    "    MAX(amount) OVER (PARTITION BY office) AS maxPaid\n",
    "from bigjoin\n",
    "```"
   ]
  },
  {
   "cell_type": "markdown",
   "metadata": {
    "button": false,
    "new_sheet": false,
    "run_control": {
     "read_only": false
    },
    "slideshow": {
     "slide_type": "slide"
    }
   },
   "source": [
    "## Exercise 4\n",
    "In the stackexchange forum for coffee (coffee.stackexchange.com), write a query which return the displayName and title of all posts which with the word `grounds`in the title.\n",
    "\n",
    "\n",
    "### Hand-in:\n",
    "* Hand in the query. Show the execution plan for the query (if you cannot get the graphical, show the tabular).\n",
    "* Document that there is no real cost to the join to get the display name instead of just the userid. You can do that by running an other query with no join and then show that there is no major difference."
   ]
  },
  {
   "cell_type": "markdown",
   "metadata": {
    "button": false,
    "new_sheet": false,
    "run_control": {
     "read_only": false
    },
    "slideshow": {
     "slide_type": "slide"
    }
   },
   "source": [
    "## Exercise 5\n",
    "Add a full text index to the `posts` table and change the query from exercise 4 so it no longer scans the entire `posts` table. \n",
    "\n",
    "### Hand-in:\n",
    "* the revised query\n",
    "* the sql needed to add your index\n",
    "\t* in particular your choice between a \"natural language\" full-text search and a \"boolean\" full-text search.\n",
    "* documentation of efficiency in the form of an execution plan"
   ]
  },
  {
   "cell_type": "markdown",
   "metadata": {
    "button": false,
    "new_sheet": false,
    "run_control": {
     "read_only": false
    },
    "slideshow": {
     "slide_type": "slide"
    }
   },
   "source": [
    "```mysql\n",
    "SELECT DisplayName, Title\n",
    "FROM posts\n",
    "INNER JOIN users ON OwnerUserId = users.Id\n",
    "WHERE MATCH(Title) AGAINST ('grounds' IN BOOLEAN MODE)\n",
    "```\n",
    "![](images/FulltextIndex.png)"
   ]
  },
  {
   "cell_type": "markdown",
   "metadata": {
    "button": false,
    "new_sheet": false,
    "run_control": {
     "read_only": false
    },
    "slideshow": {
     "slide_type": "slide"
    }
   },
   "source": [
    "# Todays program\n",
    "\n",
    "* Functional dependencies\n",
    "* Keys \n",
    "* Normalization\n",
    "* Cut the crap\n",
    "* Index - B+ trees\n",
    "* EAV tables"
   ]
  },
  {
   "cell_type": "markdown",
   "metadata": {
    "button": false,
    "new_sheet": false,
    "run_control": {
     "read_only": false
    },
    "slideshow": {
     "slide_type": "slide"
    }
   },
   "source": [
    "# What is this relation thing again???\n",
    "Consider this table:\n",
    "\n",
    "![](images/Normal_1.png)"
   ]
  },
  {
   "cell_type": "markdown",
   "metadata": {
    "button": false,
    "new_sheet": false,
    "run_control": {
     "read_only": false
    },
    "slideshow": {
     "slide_type": "slide"
    }
   },
   "source": [
    "A **relation** is a **subset** of the **crossproduct** of the column types.\n",
    "\n",
    "$R = D_{0} \\times D_{1} \\times D_{2} \\times ... \\times D_{n}$\n",
    "\n",
    "Or the above: $ClientRental = String \\times String \\times String \\times String \\times Date \\times Date \\times Int \\times String \\times String$"
   ]
  },
  {
   "cell_type": "markdown",
   "metadata": {
    "button": false,
    "new_sheet": false,
    "run_control": {
     "read_only": false
    },
    "slideshow": {
     "slide_type": "slide"
    }
   },
   "source": [
    "# A relation is a subset of the crossproduct of the column types.\n",
    "\n",
    "Each row in a table is an element (tuple) from the relation.\n",
    "\n",
    "In the mathematical form: $row \\in R$ \n",
    "\n",
    "or written out: $(v_{0},v_{1},...,v_{n}) \\in D_{0} \\times D_{1} \\times D_{2} \\times ... \\times D_{n}$\n",
    "\n",
    "in our ClientRental example:\n",
    "$(\"CR76\",\"PG4\",\"John\\:Kay\", \"6\\:Lawrence\\:St,\\:Glassgow\", 1-jul-03, 31-aug-04,350, \"CO40\", \"Tina\\: Murphy\") \\in ClientRental$"
   ]
  },
  {
   "cell_type": "markdown",
   "metadata": {
    "button": false,
    "new_sheet": false,
    "run_control": {
     "read_only": false
    },
    "slideshow": {
     "slide_type": "slide"
    }
   },
   "source": [
    "##  What is a function\n",
    "\n",
    "A function is a mapping from one domain to an other.\n",
    "\n",
    "For example $age: Person \\rightarrow Integer$. \n",
    "Type $Integer$ is sometimes written ℕ\n",
    "\n",
    "A function maps from its domain. The Codomain and Range are both on the output side, but are subtly different. The Codomain is the set of values that could possibly come out. ... And The Range is the set of values that actually do come out\n",
    "\n",
    "For example the **codomain** of the *age* function is ℕ, but the **range** is $[0..120]$ (more or less)"
   ]
  },
  {
   "cell_type": "markdown",
   "metadata": {
    "button": false,
    "new_sheet": false,
    "run_control": {
     "read_only": false
    },
    "slideshow": {
     "slide_type": "slide"
    }
   },
   "source": [
    "## Dependency\n",
    "\n",
    "If there is a function $f: A \\rightarrow B$ from column $A$ to column $B$, we say that $B$ is **(functionally) dependent** on $A$.\n",
    "\n",
    "We write it as: $A \\rightarrow B$\n",
    "\n",
    "Mostly such functions are not \"mathematically\", but has to do with the world we model. \n",
    "* PostalCodes determine Cities\n",
    "* emails determine Persons\n",
    "* product determines price\n",
    "* ...\n",
    "\n"
   ]
  },
  {
   "cell_type": "markdown",
   "metadata": {
    "button": false,
    "new_sheet": false,
    "run_control": {
     "read_only": false
    },
    "slideshow": {
     "slide_type": "fragment"
    }
   },
   "source": [
    "### Multicolumn functions and dependencies\n",
    "Notice: A function can map from column A and B to C. $\\:\\:f: A \\times B \\rightarrow C$.\n",
    "\n",
    "Hence the dependency is:  $A \\times B \\rightarrow C$"
   ]
  },
  {
   "cell_type": "markdown",
   "metadata": {
    "button": false,
    "new_sheet": false,
    "run_control": {
     "read_only": false
    },
    "slideshow": {
     "slide_type": "slide"
    }
   },
   "source": [
    "## Primary key, candidate key\n",
    "\n",
    "A **candicate Key** is a minimal subset of columns that functionally determines the remaining collumns.\n",
    "\n",
    "Assume we have a relation $R = D_{0} \\times D_{1} \\times D_{2} \\times ... \\times D_{n}$\n",
    "\n",
    "$C_{xyz}$ (columns X,Y and Z) is a candidate key if $C_{xyz} \\rightarrow D_0, C_{xyz} \\rightarrow D_1, C_{xyz} \\rightarrow D_2, ... C_{xyz} \\rightarrow D_n$.\n",
    "\n",
    "A column is always dependent on itself: $C \\rightarrow C$.\n",
    "\n",
    "A relation do not **have** a primary key, we as designers pick one candidate key and decide it to be **primary key**."
   ]
  },
  {
   "cell_type": "markdown",
   "metadata": {
    "button": false,
    "new_sheet": false,
    "run_control": {
     "read_only": false
    },
    "slideshow": {
     "slide_type": "slide"
    }
   },
   "source": [
    "## First normal form\n",
    "\n",
    "### All tables must have a primary key\n",
    "### All columns are a single domain.\n",
    "\n",
    "Relation to real world needed to determine this. \n",
    "\n",
    "* Full name vs. first and last. \n",
    "* Adressline vs. streetname and number (and floor and door).\n",
    "* Country/Area code in phone numbers\n",
    "\n",
    "The support for json and xml violates this principle. The query language now must have ways to extract information from inside a structured value.\n",
    "\n"
   ]
  },
  {
   "cell_type": "markdown",
   "metadata": {
    "button": false,
    "new_sheet": false,
    "run_control": {
     "read_only": false
    },
    "slideshow": {
     "slide_type": "slide"
    }
   },
   "source": [
    "## Second normal form\n",
    "\n",
    "### The table must be on first normal form\n",
    "\n",
    "### All the non-key columns are  dependent on all of the table’s primary key.\n",
    "\n",
    "Only of interest if you have composite keys $A \\times B$. In that case you can have a dependecy $B \\rightarrow C$."
   ]
  },
  {
   "cell_type": "markdown",
   "metadata": {
    "button": false,
    "new_sheet": false,
    "run_control": {
     "read_only": false
    },
    "slideshow": {
     "slide_type": "slide"
    }
   },
   "source": [
    "![](images/Normal_2.png)\n",
    "\n",
    "Primary key: $StudentId \\times CourseId$\n",
    "\n",
    "Dependencies: \n",
    "-  $StudentId \\rightarrow StuName$ \n",
    "-  $CourseId \\rightarrow CourseName$, \n",
    "-  $StudentId \\times CourseId \\rightarrow Grade$"
   ]
  },
  {
   "cell_type": "markdown",
   "metadata": {
    "button": false,
    "new_sheet": false,
    "run_control": {
     "read_only": false
    },
    "slideshow": {
     "slide_type": "slide"
    }
   },
   "source": [
    "## Many to Many relationships\n",
    "\n",
    "The classic example is orderlines which links orders and products. In the classicmodels database\n",
    "\n",
    "```mysql\n",
    "create table orderdetails (\n",
    "  orderNumber     int            not null,\n",
    "  productCode     varchar(15)    not null,\n",
    "  quantityOrdered int            not null,\n",
    "  priceEach       decimal(10, 2) not null,\n",
    "  orderLineNumber smallint(6)    not null)\n",
    "```\n",
    "Is there a dependency $productCode \\rightarrow priceEach$ ?\n",
    "\n",
    "The most common reason for violations of 2<sup>nd</sup> normal form is attributes in a many to many relations which really belong to one of the connected tables."
   ]
  },
  {
   "cell_type": "markdown",
   "metadata": {
    "button": false,
    "new_sheet": false,
    "run_control": {
     "read_only": false
    },
    "slideshow": {
     "slide_type": "slide"
    }
   },
   "source": [
    "## Third normal form\n",
    "\n",
    "### 2<sup>nd</sup> normal form\n",
    "### No *transitive dependencies*\n",
    "A transitive dependency is when a non-key attribute depends on another non-key attribute.\n",
    "\n",
    "In math speak. If there is a dependency $A \\rightarrow B$ in the table, then A must be the key. Or $A \\times B \\rightarrow C$\n",
    "\n",
    "### 1<sup>st</sup>, 2<sup>nd</sup> and 3<sup>rd</sup>\n",
    "Bill Kent: \"[Every] non-key [attribute] must provide a fact about the key, the whole key, and nothing but the key.\"\n",
    "\n"
   ]
  },
  {
   "cell_type": "markdown",
   "metadata": {
    "button": false,
    "new_sheet": false,
    "run_control": {
     "read_only": false
    },
    "slideshow": {
     "slide_type": "slide"
    }
   },
   "source": [
    "## Higher order\n",
    "Boyce-Codd, Fourth, and I want my name on a paper too....\n",
    "\n",
    "# Summary of normal forms\n",
    "* Give the table a \"surrogate key\" (a key which is not from the domain, but an auto incrementing integer)\n",
    "* Make sure the columns only deal with the domain entity\n",
    "* Take care with many-many relationships"
   ]
  },
  {
   "cell_type": "markdown",
   "metadata": {
    "button": false,
    "new_sheet": false,
    "run_control": {
     "read_only": false
    },
    "slideshow": {
     "slide_type": "slide"
    }
   },
   "source": [
    "# Your turn\n",
    "\n",
    "![](images/InclassExercise7_1.png)"
   ]
  },
  {
   "cell_type": "markdown",
   "metadata": {
    "button": false,
    "new_sheet": false,
    "run_control": {
     "read_only": false
    },
    "slideshow": {
     "slide_type": "slide"
    }
   },
   "source": [
    "# Exercise until you get it..."
   ]
  },
  {
   "cell_type": "markdown",
   "metadata": {
    "button": false,
    "new_sheet": false,
    "run_control": {
     "read_only": false
    },
    "slideshow": {
     "slide_type": "fragment"
    }
   },
   "source": [
    "# Break"
   ]
  },
  {
   "cell_type": "markdown",
   "metadata": {
    "button": false,
    "new_sheet": false,
    "run_control": {
     "read_only": false
    },
    "slideshow": {
     "slide_type": "slide"
    }
   },
   "source": [
    "# Index - B+ trees\n",
    "\n",
    "A binary tree has two subtrees. A B-tree use the size of the disc sector as limit on the children. \n",
    "\n",
    "If we index a column of integers (8 bytes), and the sector size is 4K, we can have 4096 / 8 = 512 numbers. \n",
    "\n",
    "The actual tuples are not in the tree (we could have more than one index over the data). We will need reserve some space for the tuple index as well (an other long). \n",
    "\n",
    "For integer indexes - the branch out could therefore be around 256.\n",
    "\n",
    "Assume we have 500.000.000 records (about the population of EU). What is the height of the tree?\n",
    "\n",
    "$log_{256}(500.000.000) = log_{10}(500.000.000)/log_{10}(256) = 8.67/2.41 = 3.6 \\rightarrow 4$ (compared to 29 for a binary tree)."
   ]
  },
  {
   "cell_type": "markdown",
   "metadata": {
    "button": false,
    "new_sheet": false,
    "run_control": {
     "read_only": false
    },
    "slideshow": {
     "slide_type": "slide"
    }
   },
   "source": [
    "## Leaf nodes are linked list\n",
    "\n",
    "Linked lists are efficient for insertion, removal, iteration, and spans\n",
    "\n",
    "<img src=\"images/Bplus_LeafNodes.png\" width=\"50%\">\n"
   ]
  },
  {
   "cell_type": "markdown",
   "metadata": {
    "button": false,
    "new_sheet": false,
    "run_control": {
     "read_only": false
    },
    "slideshow": {
     "slide_type": "slide"
    }
   },
   "source": [
    "# The B+tree\n",
    "\n",
    "<img src=\"images/Bplus_BranchNodes.png\" width=\"50%\">"
   ]
  },
  {
   "cell_type": "markdown",
   "metadata": {
    "button": false,
    "new_sheet": false,
    "run_control": {
     "read_only": false
    },
    "slideshow": {
     "slide_type": "slide"
    }
   },
   "source": [
    "## B tree search\n",
    "\n",
    "Target: 57\n",
    "\n",
    "<img src=\"images/Bplus_Search.png\" width=\"50%\">"
   ]
  },
  {
   "cell_type": "markdown",
   "metadata": {
    "button": false,
    "new_sheet": false,
    "run_control": {
     "read_only": false
    },
    "slideshow": {
     "slide_type": "slide"
    }
   },
   "source": [
    "## What can we do with the index?\n",
    "* Sorting?\n",
    "* updates?\n",
    "* inserts?\n",
    "* Which where clauses can we handle?\n",
    "* like?"
   ]
  },
  {
   "cell_type": "markdown",
   "metadata": {
    "button": false,
    "new_sheet": false,
    "run_control": {
     "read_only": false
    },
    "slideshow": {
     "slide_type": "slide"
    }
   },
   "source": [
    "## Like on text index\n",
    "```mysql\n",
    "select *\n",
    "from customers\n",
    "where customerName like 'Mini%'\n",
    "```\n",
    "What can it do?"
   ]
  },
  {
   "cell_type": "markdown",
   "metadata": {
    "button": false,
    "new_sheet": false,
    "run_control": {
     "read_only": false
    },
    "slideshow": {
     "slide_type": "slide"
    }
   },
   "source": [
    "## Like continued\n",
    "<img src=\"images/Bplus_Like.png\" width=\"50%\">"
   ]
  },
  {
   "cell_type": "markdown",
   "metadata": {
    "button": false,
    "new_sheet": false,
    "run_control": {
     "read_only": false
    },
    "slideshow": {
     "slide_type": "fragment"
    }
   },
   "source": [
    "### Try to avoid '%' in the beginning\n",
    "Why?"
   ]
  },
  {
   "cell_type": "markdown",
   "metadata": {
    "button": false,
    "new_sheet": false,
    "run_control": {
     "read_only": false
    },
    "slideshow": {
     "slide_type": "slide"
    }
   },
   "source": [
    "## What is the cost of \"adding an other index\"\n",
    "\n",
    "|Insert|Delete|\n",
    "|:------:|:------:|\n",
    "|<img src=\"images/Bplus_index_cost.png\">|<img src=\"images/Bplus_delete_cost.png\">|\n",
    "\n"
   ]
  },
  {
   "cell_type": "markdown",
   "metadata": {
    "button": false,
    "new_sheet": false,
    "run_control": {
     "read_only": false
    },
    "slideshow": {
     "slide_type": "slide"
    }
   },
   "source": [
    "# And now to something completely different"
   ]
  },
  {
   "cell_type": "markdown",
   "metadata": {
    "button": false,
    "new_sheet": false,
    "run_control": {
     "read_only": false
    },
    "slideshow": {
     "slide_type": "slide"
    }
   },
   "source": [
    "# Entity-attribute-value tables\n",
    "\n",
    "One table to rule them all\n",
    "\n",
    "\n",
    "|Definition|Data|\n",
    "|:------:|:------:|\n",
    "|<img src=\"images/EAV_table.png\">|<img src=\"images/EAV_table_data.png\">|\n"
   ]
  },
  {
   "cell_type": "markdown",
   "metadata": {
    "button": false,
    "new_sheet": false,
    "run_control": {
     "read_only": false
    },
    "slideshow": {
     "slide_type": "slide"
    }
   },
   "source": [
    "### finding all customers in the USA\n",
    "\n",
    "regular sql:\n",
    "\n",
    "```sql\n",
    "select customerNumber, customerName,city, country\n",
    "from customers\n",
    "where country='USA'\n",
    "```\n",
    "compare with\n",
    "\n",
    "```sql\n",
    "with \n",
    "     usa_companies as (\n",
    "       select customerNumber as id\n",
    "       from eav\n",
    "       where attribute = 'country'\n",
    "         and value = 'USA')\n",
    "select *\n",
    "from eav\n",
    "where eav.customerNumber in (select * from usa_companies)\n",
    "```"
   ]
  },
  {
   "cell_type": "markdown",
   "metadata": {
    "button": false,
    "new_sheet": false,
    "run_control": {
     "read_only": false
    },
    "slideshow": {
     "slide_type": "slide"
    }
   },
   "source": [
    "## Entity-attribute-value tables\n",
    "Extract them from existing tables\n",
    "\n",
    "```sql\n",
    "create table eav as\n",
    "  select customerNumber, 'id' as attribute, customerNumber as value\n",
    "  from customers\n",
    "  union\n",
    "  select customerNumber, 'customerName' as attribute, customerName as value\n",
    "  from customers\n",
    "  union\n",
    "  select customerNumber, 'phone' as attribute, phone as value\n",
    "  from customers\n",
    "  union\n",
    "  select customerNumber, 'city' as attribute, city as value\n",
    "  from customers\n",
    "  union\n",
    "  select customerNumber, 'country' as attribute, country as value\n",
    "  from customers\n",
    "```\n",
    "\n",
    "\n",
    "\n",
    "\n",
    "\n"
   ]
  },
  {
   "cell_type": "markdown",
   "metadata": {
    "button": false,
    "new_sheet": false,
    "run_control": {
     "read_only": false
    },
    "slideshow": {
     "slide_type": "slide"
    }
   },
   "source": [
    "### WARNING: Meta programming in SQL\n",
    "\n",
    "```sql\n",
    "with cols as\n",
    "   (SELECT concat('(select concat(\\'customers_\\',customerNumber) as id, \\'', COLUMN_NAME,\n",
    "     '\\' as attr, ', COLUMN_NAME, ' as value)') as query\n",
    "    FROM information_schema.columns\n",
    "    WHERE table_schema = 'classicmodels'\n",
    "      AND table_name = 'customers')\n",
    "select group_concat(query separator ' union ')\n",
    "from cols\n",
    "```"
   ]
  },
  {
   "cell_type": "markdown",
   "metadata": {
    "button": false,
    "new_sheet": false,
    "run_control": {
     "read_only": false
    },
    "slideshow": {
     "slide_type": "slide"
    }
   },
   "source": [
    "which yields:\n",
    "\n",
    "```mysql\n",
    "(select concat('customers_', customerNumber) as id, 'customerNumber' as attr, customerNumber as value from customers)\n",
    "union\n",
    "(select concat('customers_', customerNumber) as id, 'customerName' as attr, customerName as value from customers)\n",
    "union\n",
    "(select concat('customers_', customerNumber) as id, 'contactLastName' as attr, contactLastName as value from customers)\n",
    "union\n",
    "(select concat('customers_', customerNumber) as id, 'contactFirstName' as attr, contactFirstName as value\n",
    " from customers)\n",
    "union\n",
    "(select concat('customers_', customerNumber) as id, 'phone' as attr, phone as value from customers)\n",
    "union\n",
    "(select concat('customers_', customerNumber) as id, 'addressLine1' as attr, addressLine1 as value from customers)\n",
    "union\n",
    "(select concat('customers_', customerNumber) as id, 'addressLine2' as attr, addressLine2 as value from customers)\n",
    "union\n",
    "(select concat('customers_', customerNumber) as id, 'city' as attr, city as value from customers)\n",
    "...\n",
    "```"
   ]
  },
  {
   "cell_type": "markdown",
   "metadata": {
    "button": false,
    "new_sheet": false,
    "run_control": {
     "read_only": false
    },
    "slideshow": {
     "slide_type": "slide"
    }
   },
   "source": [
    "# Assignments for next time"
   ]
  }
 ],
 "metadata": {
  "celltoolbar": "Slideshow",
  "kernelspec": {
   "display_name": "Python 3",
   "language": "python",
   "name": "python3"
  },
  "language_info": {
   "codemirror_mode": {
    "name": "ipython",
    "version": 3
   },
   "file_extension": ".py",
   "mimetype": "text/x-python",
   "name": "python",
   "nbconvert_exporter": "python",
   "pygments_lexer": "ipython3",
   "version": "3.7.3"
  }
 },
 "nbformat": 4,
 "nbformat_minor": 2
}
